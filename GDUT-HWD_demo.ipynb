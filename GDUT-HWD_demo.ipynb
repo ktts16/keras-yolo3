{
 "cells": [
  {
   "cell_type": "markdown",
   "metadata": {},
   "source": [
    "# Demo: hardhat wearing detection - GDUT-HWD dataset"
   ]
  },
  {
   "cell_type": "code",
   "execution_count": null,
   "metadata": {},
   "outputs": [],
   "source": [
    "from yolo import YOLO\n",
    "from yolo import detect_video\n",
    "\n",
    "from keras_utils import get_classes, get_anchors"
   ]
  },
  {
   "cell_type": "code",
   "execution_count": null,
   "metadata": {},
   "outputs": [],
   "source": [
    "#data_mode = 1 #original\n",
    "data_mode = 2 #binary (2 classes: hardhat, none)"
   ]
  },
  {
   "cell_type": "code",
   "execution_count": null,
   "metadata": {},
   "outputs": [],
   "source": [
    "if data_mode == 1:\n",
    "    classes_path = 'model_data/GDUT-HWD_classes.txt'\n",
    "    weights_path = 'model_data/GDUT-HWD_trained_weights_final.h5'\n",
    "elif data_mode == 2:\n",
    "    classes_path = 'model_data/GDUT-HWD_binary_classes.txt'\n",
    "    weights_path = 'model_data/GDUT-HWD_binary_trained_weights_final.h5'"
   ]
  },
  {
   "cell_type": "code",
   "execution_count": null,
   "metadata": {},
   "outputs": [],
   "source": [
    "anchors_path = 'model_data/yolo_anchors.txt'\n",
    "class_names = get_classes(classes_path)\n",
    "anchors = get_anchors(anchors_path)"
   ]
  },
  {
   "cell_type": "code",
   "execution_count": null,
   "metadata": {},
   "outputs": [],
   "source": [
    "import tensorflow as tf\n",
    "graph = tf.get_default_graph()\n",
    "\n",
    "with graph.as_default():\n",
    "    yolo_ = YOLO(model_path=weights_path, classes_path=classes_path, anchors_path=anchors_path)\n",
    "print(yolo_.class_names)"
   ]
  },
  {
   "cell_type": "markdown",
   "metadata": {},
   "source": [
    "## Demo"
   ]
  },
  {
   "cell_type": "code",
   "execution_count": null,
   "metadata": {},
   "outputs": [],
   "source": [
    "from yolo import detect_video_2\n",
    "\n",
    "with graph.as_default():\n",
    "    detect_video_2(yolo_)"
   ]
  },
  {
   "cell_type": "code",
   "execution_count": null,
   "metadata": {},
   "outputs": [],
   "source": []
  }
 ],
 "metadata": {
  "kernelspec": {
   "display_name": "Python 3",
   "language": "python",
   "name": "python3"
  },
  "language_info": {
   "codemirror_mode": {
    "name": "ipython",
    "version": 3
   },
   "file_extension": ".py",
   "mimetype": "text/x-python",
   "name": "python",
   "nbconvert_exporter": "python",
   "pygments_lexer": "ipython3",
   "version": "3.6.8"
  }
 },
 "nbformat": 4,
 "nbformat_minor": 2
}
