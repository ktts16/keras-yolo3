{
 "cells": [
  {
   "cell_type": "markdown",
   "metadata": {},
   "source": [
    "# Evaluate using test set of GDUT-HWD dataset (hardhat wearing detection)"
   ]
  },
  {
   "cell_type": "code",
   "execution_count": null,
   "metadata": {},
   "outputs": [],
   "source": [
    "from yolo import YOLO\n",
    "from PIL import Image\n",
    "\n",
    "from keras_utils import get_classes, get_anchors\n",
    "from yolo3.utils import get_data\n",
    "from yolo3_utils import *\n",
    "\n",
    "np.set_printoptions(precision=2)"
   ]
  },
  {
   "cell_type": "code",
   "execution_count": null,
   "metadata": {},
   "outputs": [],
   "source": [
    "#data_mode = 1 #original\n",
    "data_mode = 2 #binary (2 classes: hardhat, none)"
   ]
  },
  {
   "cell_type": "code",
   "execution_count": null,
   "metadata": {},
   "outputs": [],
   "source": [
    "# weights_path = 'model_data/yolo.h5'\n",
    "if data_mode == 1:\n",
    "    classes_path = 'model_data/GDUT-HWD_classes.txt'\n",
    "    weights_path = 'model_data/GDUT-HWD_trained_weights_final.h5'\n",
    "    test_annotation_path = 'Hardhat_test.txt'\n",
    "elif data_mode == 2:\n",
    "    classes_path = 'model_data/GDUT-HWD_binary_classes.txt'\n",
    "    weights_path = 'model_data/GDUT-HWD_binary_trained_weights_final.h5'\n",
    "    test_annotation_path = 'Hardhat_binary_test.txt'\n",
    "#     test_annotation_path = 'Hardhat_binary_test_small.txt'"
   ]
  },
  {
   "cell_type": "code",
   "execution_count": null,
   "metadata": {},
   "outputs": [],
   "source": [
    "anchors_path = 'model_data/yolo_anchors.txt'\n",
    "class_names = get_classes(classes_path)\n",
    "num_classes = len(class_names)\n",
    "anchors = get_anchors(anchors_path)\n",
    "\n",
    "input_shape = (416,416) # multiple of 32, hw"
   ]
  },
  {
   "cell_type": "code",
   "execution_count": null,
   "metadata": {},
   "outputs": [],
   "source": [
    "yolo_ = YOLO(model_path=weights_path, classes_path=classes_path, anchors_path=anchors_path)\n",
    "print(yolo_.class_names)"
   ]
  },
  {
   "cell_type": "markdown",
   "metadata": {},
   "source": [
    "## Evaluate one image"
   ]
  },
  {
   "cell_type": "code",
   "execution_count": null,
   "metadata": {},
   "outputs": [],
   "source": [
    "# image_id = '01422'\n",
    "# image_id = '02160'\n",
    "# image_id = '02475'\n",
    "# image_id = '02190'\n",
    "# image_id = '00671'\n",
    "image_id = '02464'\n",
    "photo_filename = '/home/krittametht/data/Hardhat/JPEGImages/' + image_id + '.jpg'\n",
    "print(photo_filename)\n",
    "\n",
    "show_image = False\n",
    "# show_image = True\n",
    "\n",
    "try:\n",
    "    image = Image.open(photo_filename)\n",
    "except:\n",
    "    print('Open Error! Try again!')\n",
    "else:\n",
    "    r_image, out_boxes, out_scores, out_classes = yolo_.detect_image(image, print_log=True)\n",
    "    if show_image:\n",
    "        r_image.show()\n",
    "\n",
    "# print(out_boxes)\n",
    "# print(out_scores)\n",
    "# print(out_classes)"
   ]
  },
  {
   "cell_type": "code",
   "execution_count": null,
   "metadata": {
    "scrolled": true
   },
   "outputs": [],
   "source": [
    "# find the line with image id in txt file\n",
    "out = ! grep -n $image_id\".jpg\" $test_annotation_path\n",
    "if len(out) == 1:\n",
    "    parts = out[0].split(':')\n",
    "    line_annotation = parts[1]\n",
    "\n",
    "actual_box = get_data(line_annotation)"
   ]
  },
  {
   "cell_type": "code",
   "execution_count": null,
   "metadata": {
    "scrolled": true
   },
   "outputs": [],
   "source": [
    "nonzero_actual_boxes = np.asarray([b for b in actual_box if not all_equals(b)], dtype=np.float32)\n",
    "actual_classes = nonzero_actual_boxes[:,4]\n",
    "actual_boxes = nonzero_actual_boxes[:,:4]\n",
    "\n",
    "out_boxes_2 = copy_and_swap_columns(out_boxes, [1, 0, 3, 2])\n",
    "\n",
    "print_log = False\n",
    "print_log = True\n",
    "# iou_threshold = 0.5\n",
    "iou_threshold = 0.75\n",
    "acc = classification_accuracy_one_image(actual_boxes, out_boxes_2, actual_classes, out_classes, print_log=print_log, iou_threshold=iou_threshold)\n",
    "\n",
    "print(actual_classes)\n",
    "print(out_classes)\n",
    "\n",
    "print(acc)"
   ]
  },
  {
   "cell_type": "markdown",
   "metadata": {},
   "source": [
    "## Evaluate multiple images"
   ]
  },
  {
   "cell_type": "code",
   "execution_count": null,
   "metadata": {},
   "outputs": [],
   "source": [
    "with open(test_annotation_path) as f:\n",
    "    lines = f.readlines()"
   ]
  },
  {
   "cell_type": "code",
   "execution_count": null,
   "metadata": {},
   "outputs": [],
   "source": [
    "# based on data_generator\n",
    "def generate_data(annotation_lines):\n",
    "    n = len(annotation_lines)\n",
    "    i = 0\n",
    "    while i < n:\n",
    "        box = get_data(annotation_lines[i])\n",
    "        image_file = annotation_lines[i].split(' ')[0]\n",
    "        i = i+1\n",
    "        yield image_file, box\n",
    "\n",
    "# iou_threshold = 0.5\n",
    "iou_threshold = 0.75\n",
    "show_image = False\n",
    "accs = []\n",
    "log_every_n_iterations = 100\n",
    "itr = 0\n",
    "for photo_filename, actual_box in generate_data(lines):\n",
    "    try:\n",
    "        image = Image.open(photo_filename)\n",
    "    except:\n",
    "        print('Error: Open Image File')\n",
    "    else:\n",
    "        r_image, out_boxes, out_scores, out_classes = yolo_.detect_image(image, print_log=False)\n",
    "        if show_image: r_image.show()\n",
    "    \n",
    "        nonzero_actual_boxes = np.asarray([b for b in actual_box if not all_equals(b)], dtype=np.float32)\n",
    "        actual_classes = nonzero_actual_boxes[:,4]\n",
    "        actual_boxes = nonzero_actual_boxes[:,:4]\n",
    "\n",
    "        out_boxes_2 = copy_and_swap_columns(out_boxes, [1, 0, 3, 2])\n",
    "\n",
    "        acc = classification_accuracy_one_image(actual_boxes, out_boxes_2, actual_classes, out_classes, print_log=False, iou_threshold=iou_threshold)\n",
    "        accs.append(acc)\n",
    "        \n",
    "        itr = itr + 1\n",
    "        if itr % log_every_n_iterations == 0:\n",
    "            print(itr, accs)"
   ]
  },
  {
   "cell_type": "code",
   "execution_count": null,
   "metadata": {},
   "outputs": [],
   "source": [
    "np_accs = np.asarray(accs)\n",
    "print(np_accs.mean())\n",
    "print(len(accs), accs)"
   ]
  }
 ],
 "metadata": {
  "kernelspec": {
   "display_name": "Python 3",
   "language": "python",
   "name": "python3"
  },
  "language_info": {
   "codemirror_mode": {
    "name": "ipython",
    "version": 3
   },
   "file_extension": ".py",
   "mimetype": "text/x-python",
   "name": "python",
   "nbconvert_exporter": "python",
   "pygments_lexer": "ipython3",
   "version": "3.6.8"
  }
 },
 "nbformat": 4,
 "nbformat_minor": 2
}
